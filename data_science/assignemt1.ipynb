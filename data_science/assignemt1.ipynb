{
 "cells": [
  {
   "cell_type": "markdown",
   "id": "743d3b4d",
   "metadata": {},
   "source": [
    "// Question 1"
   ]
  },
  {
   "cell_type": "code",
   "execution_count": 15,
   "id": "5eb2b020",
   "metadata": {},
   "outputs": [
    {
     "name": "stdout",
     "output_type": "stream",
     "text": [
      "[[58 33 11 50 68]\n",
      " [55 59 80 13 62]\n",
      " [12  2 73 46 36]\n",
      " [15 35 20 33 28]\n",
      " [52 48 79 84 87]]\n",
      "73\n"
     ]
    }
   ],
   "source": [
    "import numpy as np\n",
    "\n",
    "arr = np.random.randint(1,101,size=(5,5))\n",
    "print(arr)\n",
    "\n",
    "x  = int(np.ceil(5 /2)) # np.ceil gives value as float so change it into int\n",
    "y = 5 //2 # integer division\n",
    "print(arr[y][y])"
   ]
  },
  {
   "cell_type": "code",
   "execution_count": 16,
   "id": "1ff138bd",
   "metadata": {},
   "outputs": [
    {
     "name": "stdout",
     "output_type": "stream",
     "text": [
      "44.0\n",
      "53.8\n",
      "33.8\n",
      "26.2\n",
      "70.0\n"
     ]
    }
   ],
   "source": [
    "for i in range(5):\n",
    "    print(np.mean(arr[i]))"
   ]
  },
  {
   "cell_type": "code",
   "execution_count": null,
   "id": "9cf6029a",
   "metadata": {},
   "outputs": [
    {
     "name": "stdout",
     "output_type": "stream",
     "text": [
      "[33 11 13 12  2 15 35 20 33]\n"
     ]
    }
   ],
   "source": [
    "meanf = np.mean(arr) # give the mean of complete array\n",
    "\n",
    "# print(meanf)\n",
    "\n",
    "# elements = []\n",
    "# for i in range(5):\n",
    "#     for j in range(4):\n",
    "#         if(arr[i][j] <= meanf):\n",
    "#             elements.append(arr[i][j])\n",
    "\n",
    "# arrn = np.array(elements)\n",
    "# print(arrn)"
   ]
  },
  {
   "cell_type": "code",
   "execution_count": 24,
   "id": "a45979cb",
   "metadata": {},
   "outputs": [
    {
     "name": "stdout",
     "output_type": "stream",
     "text": [
      "[58 33 11 50 68 62 36 28 87 84 79 48 52 15 12 55 59 80 13 46 33 20 35  2\n",
      " 73]\n"
     ]
    }
   ],
   "source": [
    "def numpy_spiral_order_matrix(arr):\n",
    "    row = arr.shape[0]\n",
    "    col = arr.shape[1]\n",
    "\n",
    "    top = 0\n",
    "    bottom = row-1\n",
    "    left = 0\n",
    "    right = col -1\n",
    "    elements = []\n",
    "\n",
    "    while(top <= bottom or left <= right):\n",
    "        # Traverse from left to right \n",
    "        for i in range(left, right+1):\n",
    "            elements.append(arr[top][i])\n",
    "          \n",
    "        top += 1\n",
    "\n",
    "        # Traverse from top to  bottom \n",
    "        for j in range(top , bottom+1):\n",
    "            elements.append(arr[j][right])\n",
    "        \n",
    "        right -= 1\n",
    "        \n",
    "\n",
    "        # Traverse from rigth to left \n",
    "        for k in range(right , left -1,-1):\n",
    "            elements.append(arr[bottom][k])\n",
    "            \n",
    "        bottom -= 1\n",
    "        \n",
    "        #Traverse from bottom to top\n",
    "        for m in range(bottom , top -1, -1):\n",
    "            elements.append(arr[m][left])\n",
    "            \n",
    "        left += 1\n",
    "\n",
    "    return elements\n",
    "\n",
    "arn = np.array(numpy_spiral_order_matrix(arr))\n",
    "    \n",
    "print(arn)\n",
    "        \n",
    "\n",
    "    \n",
    "\n",
    "    "
   ]
  },
  {
   "cell_type": "markdown",
   "id": "ccdc8186",
   "metadata": {},
   "source": [
    "// Question 2"
   ]
  },
  {
   "cell_type": "code",
   "execution_count": 27,
   "id": "8f248ce1",
   "metadata": {},
   "outputs": [],
   "source": [
    "import numpy as np\n",
    "import pandas as pd"
   ]
  },
  {
   "cell_type": "code",
   "execution_count": 30,
   "id": "50752fd8",
   "metadata": {},
   "outputs": [
    {
     "data": {
      "text/html": [
       "<div>\n",
       "<style scoped>\n",
       "    .dataframe tbody tr th:only-of-type {\n",
       "        vertical-align: middle;\n",
       "    }\n",
       "\n",
       "    .dataframe tbody tr th {\n",
       "        vertical-align: top;\n",
       "    }\n",
       "\n",
       "    .dataframe thead th {\n",
       "        text-align: right;\n",
       "    }\n",
       "</style>\n",
       "<table border=\"1\" class=\"dataframe\">\n",
       "  <thead>\n",
       "    <tr style=\"text-align: right;\">\n",
       "      <th></th>\n",
       "      <th>Name</th>\n",
       "      <th>Platform</th>\n",
       "      <th>Year</th>\n",
       "      <th>Genre</th>\n",
       "      <th>Publisher</th>\n",
       "      <th>NA_Sales</th>\n",
       "      <th>EU_Sales</th>\n",
       "      <th>JP_Sales</th>\n",
       "      <th>Other_Sales</th>\n",
       "      <th>global_sales</th>\n",
       "    </tr>\n",
       "  </thead>\n",
       "  <tbody>\n",
       "    <tr>\n",
       "      <th>6109</th>\n",
       "      <td>Wii Sports</td>\n",
       "      <td>Wii</td>\n",
       "      <td>2006.0</td>\n",
       "      <td>Sports</td>\n",
       "      <td>Nintendo</td>\n",
       "      <td>41.49</td>\n",
       "      <td>29.02</td>\n",
       "      <td>3.77</td>\n",
       "      <td>8.46</td>\n",
       "      <td>82.74</td>\n",
       "    </tr>\n",
       "    <tr>\n",
       "      <th>122</th>\n",
       "      <td>Super Mario Bros.</td>\n",
       "      <td>NES</td>\n",
       "      <td>1985.0</td>\n",
       "      <td>Platform</td>\n",
       "      <td>Nintendo</td>\n",
       "      <td>29.08</td>\n",
       "      <td>3.58</td>\n",
       "      <td>6.81</td>\n",
       "      <td>0.77</td>\n",
       "      <td>40.24</td>\n",
       "    </tr>\n",
       "    <tr>\n",
       "      <th>8315</th>\n",
       "      <td>Mario Kart Wii</td>\n",
       "      <td>Wii</td>\n",
       "      <td>2008.0</td>\n",
       "      <td>Racing</td>\n",
       "      <td>Nintendo</td>\n",
       "      <td>15.85</td>\n",
       "      <td>12.88</td>\n",
       "      <td>3.79</td>\n",
       "      <td>3.31</td>\n",
       "      <td>35.83</td>\n",
       "    </tr>\n",
       "    <tr>\n",
       "      <th>9743</th>\n",
       "      <td>Wii Sports Resort</td>\n",
       "      <td>Wii</td>\n",
       "      <td>2009.0</td>\n",
       "      <td>Sports</td>\n",
       "      <td>Nintendo</td>\n",
       "      <td>15.75</td>\n",
       "      <td>11.01</td>\n",
       "      <td>3.28</td>\n",
       "      <td>2.96</td>\n",
       "      <td>33.00</td>\n",
       "    </tr>\n",
       "    <tr>\n",
       "      <th>705</th>\n",
       "      <td>Pokemon Red/Pokemon Blue</td>\n",
       "      <td>GB</td>\n",
       "      <td>1996.0</td>\n",
       "      <td>Role-Playing</td>\n",
       "      <td>Nintendo</td>\n",
       "      <td>11.27</td>\n",
       "      <td>8.89</td>\n",
       "      <td>10.22</td>\n",
       "      <td>1.00</td>\n",
       "      <td>31.38</td>\n",
       "    </tr>\n",
       "    <tr>\n",
       "      <th>...</th>\n",
       "      <td>...</td>\n",
       "      <td>...</td>\n",
       "      <td>...</td>\n",
       "      <td>...</td>\n",
       "      <td>...</td>\n",
       "      <td>...</td>\n",
       "      <td>...</td>\n",
       "      <td>...</td>\n",
       "      <td>...</td>\n",
       "      <td>...</td>\n",
       "    </tr>\n",
       "    <tr>\n",
       "      <th>15723</th>\n",
       "      <td>Dragon Quest X: All in One Package</td>\n",
       "      <td>WiiU</td>\n",
       "      <td>2015.0</td>\n",
       "      <td>Role-Playing</td>\n",
       "      <td>Square Enix</td>\n",
       "      <td>0.00</td>\n",
       "      <td>0.00</td>\n",
       "      <td>0.01</td>\n",
       "      <td>0.00</td>\n",
       "      <td>0.01</td>\n",
       "    </tr>\n",
       "    <tr>\n",
       "      <th>15727</th>\n",
       "      <td>Durarara!! Relay</td>\n",
       "      <td>PSV</td>\n",
       "      <td>2015.0</td>\n",
       "      <td>Action</td>\n",
       "      <td>Kadokawa Games</td>\n",
       "      <td>0.00</td>\n",
       "      <td>0.00</td>\n",
       "      <td>0.01</td>\n",
       "      <td>0.00</td>\n",
       "      <td>0.01</td>\n",
       "    </tr>\n",
       "    <tr>\n",
       "      <th>15734</th>\n",
       "      <td>Fallout Anthology</td>\n",
       "      <td>PC</td>\n",
       "      <td>2015.0</td>\n",
       "      <td>Action</td>\n",
       "      <td>Bethesda Softworks</td>\n",
       "      <td>0.00</td>\n",
       "      <td>0.01</td>\n",
       "      <td>0.00</td>\n",
       "      <td>0.00</td>\n",
       "      <td>0.01</td>\n",
       "    </tr>\n",
       "    <tr>\n",
       "      <th>15737</th>\n",
       "      <td>Farming Simulator 15 Expansion Pack</td>\n",
       "      <td>PC</td>\n",
       "      <td>2015.0</td>\n",
       "      <td>Action</td>\n",
       "      <td>Focus Home Interactive</td>\n",
       "      <td>0.00</td>\n",
       "      <td>0.01</td>\n",
       "      <td>0.00</td>\n",
       "      <td>0.00</td>\n",
       "      <td>0.01</td>\n",
       "    </tr>\n",
       "    <tr>\n",
       "      <th>9650</th>\n",
       "      <td>SCORE International Baja 1000: The Official Game</td>\n",
       "      <td>PS2</td>\n",
       "      <td>2008.0</td>\n",
       "      <td>Racing</td>\n",
       "      <td>Activision</td>\n",
       "      <td>0.00</td>\n",
       "      <td>0.00</td>\n",
       "      <td>0.00</td>\n",
       "      <td>0.00</td>\n",
       "      <td>0.00</td>\n",
       "    </tr>\n",
       "  </tbody>\n",
       "</table>\n",
       "<p>16583 rows × 10 columns</p>\n",
       "</div>"
      ],
      "text/plain": [
       "                                                   Name Platform    Year  \\\n",
       "6109                                         Wii Sports      Wii  2006.0   \n",
       "122                                   Super Mario Bros.      NES  1985.0   \n",
       "8315                                     Mario Kart Wii      Wii  2008.0   \n",
       "9743                                  Wii Sports Resort      Wii  2009.0   \n",
       "705                            Pokemon Red/Pokemon Blue       GB  1996.0   \n",
       "...                                                 ...      ...     ...   \n",
       "15723                Dragon Quest X: All in One Package     WiiU  2015.0   \n",
       "15727                                  Durarara!! Relay      PSV  2015.0   \n",
       "15734                                 Fallout Anthology       PC  2015.0   \n",
       "15737               Farming Simulator 15 Expansion Pack       PC  2015.0   \n",
       "9650   SCORE International Baja 1000: The Official Game      PS2  2008.0   \n",
       "\n",
       "              Genre               Publisher  NA_Sales  EU_Sales  JP_Sales  \\\n",
       "6109         Sports                Nintendo     41.49     29.02      3.77   \n",
       "122        Platform                Nintendo     29.08      3.58      6.81   \n",
       "8315         Racing                Nintendo     15.85     12.88      3.79   \n",
       "9743         Sports                Nintendo     15.75     11.01      3.28   \n",
       "705    Role-Playing                Nintendo     11.27      8.89     10.22   \n",
       "...             ...                     ...       ...       ...       ...   \n",
       "15723  Role-Playing             Square Enix      0.00      0.00      0.01   \n",
       "15727        Action          Kadokawa Games      0.00      0.00      0.01   \n",
       "15734        Action      Bethesda Softworks      0.00      0.01      0.00   \n",
       "15737        Action  Focus Home Interactive      0.00      0.01      0.00   \n",
       "9650         Racing              Activision      0.00      0.00      0.00   \n",
       "\n",
       "       Other_Sales  global_sales  \n",
       "6109          8.46         82.74  \n",
       "122           0.77         40.24  \n",
       "8315          3.31         35.83  \n",
       "9743          2.96         33.00  \n",
       "705           1.00         31.38  \n",
       "...            ...           ...  \n",
       "15723         0.00          0.01  \n",
       "15727         0.00          0.01  \n",
       "15734         0.00          0.01  \n",
       "15737         0.00          0.01  \n",
       "9650          0.00          0.00  \n",
       "\n",
       "[16583 rows x 10 columns]"
      ]
     },
     "execution_count": 30,
     "metadata": {},
     "output_type": "execute_result"
    }
   ],
   "source": [
    "file = pd.read_csv('videogamesales.csv')\n",
    "file.head()\n",
    "\n",
    "file['global_sales'] = file['NA_Sales'] + file['EU_Sales'] + file['JP_Sales'] +file['Other_Sales']\n",
    "file.head()\n",
    "\n",
    "file.sort_values(by=\"global_sales\",ascending=False)"
   ]
  },
  {
   "cell_type": "code",
   "execution_count": 42,
   "id": "4caec42f",
   "metadata": {},
   "outputs": [
    {
     "data": {
      "image/png": "[encoded data removed]",
      "text/plain": [
       "<Figure size 1000x600 with 1 Axes>"
      ]
     },
     "metadata": {},
     "output_type": "display_data"
    }
   ],
   "source": [
    "\n",
    "import seaborn as sns\n",
    "import matplotlib.pyplot as plt\n",
    "\n",
    "# Group by genre and sum global sales\n",
    "genre_sales = file.groupby('Genre')['global_sales'].sum().reset_index()\n",
    "\n",
    "# Plot\n",
    "plt.figure(figsize=(10,6))\n",
    "sns.barplot(x='Genre', y='global_sales', data=genre_sales)\n",
    "plt.title('Total Global Sales by Genre')\n",
    "plt.xlabel('Genre')\n",
    "plt.ylabel('Total Global Sales (millions)')\n",
    "plt.xticks(rotation=45)\n",
    "plt.tight_layout()\n",
    "plt.show()"
   ]
  },
  {
   "cell_type": "code",
   "execution_count": 43,
   "id": "096623dc",
   "metadata": {},
   "outputs": [
    {
     "name": "stdout",
     "output_type": "stream",
     "text": [
      "                  Name Platform    Year  EU_JP_Sales\n",
      "999   Grand Theft Auto       PS  1997.0         1.39\n",
      "4704  Grand Theft Auto      GBA  2004.0         0.06\n"
     ]
    }
   ],
   "source": [
    "filtered_file = file.loc[file['Name'] == \"Grand Theft Auto\"]\n",
    "\n",
    "\n",
    "filtered_file = filtered_file[['Name', 'Platform', 'Year', 'EU_Sales', 'JP_Sales']]\n",
    "filtered_file['EU_JP_Sales'] = filtered_file['EU_Sales'] + filtered_file['JP_Sales']\n",
    "\n",
    "result = filtered_file[['Name', 'Platform', 'Year', 'EU_JP_Sales']]\n",
    "print(result)"
   ]
  },
  {
   "cell_type": "code",
   "execution_count": null,
   "id": "e5c1c39c",
   "metadata": {},
   "outputs": [
    {
     "data": {
      "image/png": "[encoded data removed]",
      "text/plain": [
       "<Figure size 640x480 with 1 Axes>"
      ]
     },
     "metadata": {},
     "output_type": "display_data"
    }
   ],
   "source": [
    "file[\"combined_sales\"] = file[\"NA_Sales\"] + file[\"EU_Sales\"] + file[\"JP_Sales\"] \n",
    "\n",
    "labels = [\"combined_sales\", \"Other_Sales\"]\n",
    "size1 = file[\"combined_sales\"].mean()\n",
    "size2 = file[\"Other_Sales\"].mean()\n",
    "\n",
    "sizes = [size1 , size2]\n",
    "\n",
    "colors = [\"lightgreen\", \"pink\"]\n",
    "explode = (0.1, 0)\n",
    "\n",
    "# Create pie chart\n",
    "plt.pie(sizes, labels=labels, colors=colors, explode=explode, autopct=\"%1.1f%%\", shadow=True)\n",
    "\n",
    "# Add title\n",
    "plt.title(\"Games Sales\")\n",
    "\n",
    "# Show the plot\n",
    "plt.show()"
   ]
  },
  {
   "cell_type": "code",
   "execution_count": null,
   "id": "6a975b7a",
   "metadata": {},
   "outputs": [],
   "source": []
  }
 ],
 "metadata": {
  "kernelspec": {
   "display_name": "Python 3",
   "language": "python",
   "name": "python3"
  },
  "language_info": {
   "codemirror_mode": {
    "name": "ipython",
    "version": 3
   },
   "file_extension": ".py",
   "mimetype": "text/x-python",
   "name": "python",
   "nbconvert_exporter": "python",
   "pygments_lexer": "ipython3",
   "version": "3.11.0"
  }
 },
 "nbformat": 4,
 "nbformat_minor": 5
}
