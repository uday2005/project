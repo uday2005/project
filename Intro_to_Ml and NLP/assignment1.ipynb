{
 "cells": [
  {
   "cell_type": "markdown",
   "id": "a5be43f0",
   "metadata": {},
   "source": [
    "PROBLEM 1"
   ]
  },
  {
   "cell_type": "code",
   "execution_count": 10,
   "id": "10eae55b",
   "metadata": {},
   "outputs": [
    {
     "name": "stdout",
     "output_type": "stream",
     "text": [
      "[[17  7  1 31]\n",
      " [11 47 31 48]\n",
      " [14 44 20 20]\n",
      " [ 1 21 28 36]\n",
      " [ 2 49 31 22]]\n",
      "Anti-diagonal: [np.int32(31), np.int32(31), np.int32(44), np.int32(1)]\n"
     ]
    }
   ],
   "source": [
    "import numpy as np\n",
    "\n",
    "arr = np.random.randint(1,51,size=(5,4))\n",
    "print(arr)\n",
    "\n",
    "rows, cols = arr.shape\n",
    "anti_diag = []\n",
    "for i in range(min(rows, cols)):\n",
    "    anti_diag.append(arr[i][cols - 1 - i])\n",
    "\n",
    "print(\"Anti-diagonal:\", anti_diag)\n"
   ]
  },
  {
   "cell_type": "code",
   "execution_count": 11,
   "id": "eb719cb4",
   "metadata": {},
   "outputs": [
    {
     "name": "stdout",
     "output_type": "stream",
     "text": [
      "31\n",
      "48\n",
      "44\n",
      "36\n",
      "49\n"
     ]
    }
   ],
   "source": [
    "for i in range(5):\n",
    "    print(np.max(arr[i]))"
   ]
  },
  {
   "cell_type": "code",
   "execution_count": 12,
   "id": "6c30d01b",
   "metadata": {},
   "outputs": [
    {
     "name": "stdout",
     "output_type": "stream",
     "text": [
      "[17  7  1 11 14 20 20  1 21  2 22]\n"
     ]
    }
   ],
   "source": [
    "meanf = np.mean(arr) # give the mean of complete array\n",
    "\n",
    "# print(meanf)\n",
    "\n",
    "elements = []\n",
    "for i in range(5):\n",
    "    for j in range(4):\n",
    "        if(arr[i][j] <= meanf):\n",
    "            elements.append(arr[i][j])\n",
    "\n",
    "arrn = np.array(elements)\n",
    "print(arrn)\n",
    "\n"
   ]
  },
  {
   "cell_type": "code",
   "execution_count": 13,
   "id": "128bb275",
   "metadata": {},
   "outputs": [
    {
     "name": "stdout",
     "output_type": "stream",
     "text": [
      "[17 11 14  1  2 49 31 22 36 20 48 31  1  7]\n"
     ]
    }
   ],
   "source": [
    "def numpy_boundary_traversal(arr):\n",
    "    elementp = []\n",
    "    \n",
    "    \n",
    "    row = 0\n",
    "    col = 0\n",
    "\n",
    "    for i in range(arr.shape[0]-1):\n",
    "        elementp.append(arr[row][col])\n",
    "        row = row + 1\n",
    "    \n",
    "    for j in range(arr.shape[1]-1):\n",
    "        elementp.append(arr[row][col])\n",
    "        col = col + 1\n",
    "    \n",
    "    for k in range(arr.shape[0]-1):\n",
    "        elementp.append(arr[row][col])\n",
    "        row = row - 1\n",
    "        \n",
    "    \n",
    "    for l in range(arr.shape[1]-1):\n",
    "        elementp.append(arr[row][col])\n",
    "        col = col - 1\n",
    "\n",
    "    arrp = np.array(elementp)\n",
    "    return arrp\n",
    "        \n",
    "\n",
    "print(numpy_boundary_traversal(arr))\n",
    "\n",
    "\n"
   ]
  },
  {
   "cell_type": "markdown",
   "id": "7ad0dfab",
   "metadata": {},
   "source": [
    "PROBLEM 2"
   ]
  },
  {
   "cell_type": "code",
   "execution_count": 14,
   "id": "fa39748a",
   "metadata": {},
   "outputs": [
    {
     "name": "stdout",
     "output_type": "stream",
     "text": [
      "[ 3.10823025  2.76461161  8.04605589  6.14135129  8.35619184  4.40987491\n",
      " 10.81704242  7.95041375  7.85558868  8.17688342  2.34333696  8.1860706\n",
      "  4.30060204  7.93101488  0.70073963  8.64880517  1.13845388  0.7549755\n",
      "  1.31111667  9.99182912]\n",
      "[ 3.11  2.76  8.05  6.14  8.36  4.41 10.82  7.95  7.86  8.18  2.34  8.19\n",
      "  4.3   7.93  0.7   8.65  1.14  0.75  1.31  9.99]\n"
     ]
    }
   ],
   "source": [
    "narr = np.random.uniform(0,11 ,size=20)\n",
    "print(narr)\n",
    "\n",
    "rounded = np.round(narr , decimals=2)\n",
    "print(rounded)\n",
    "\n"
   ]
  },
  {
   "cell_type": "code",
   "execution_count": 15,
   "id": "4dc0b533",
   "metadata": {},
   "outputs": [
    {
     "name": "stdout",
     "output_type": "stream",
     "text": [
      "10.81704241659057\n",
      "0.7007396342562963\n",
      "6.998469985608816\n"
     ]
    }
   ],
   "source": [
    "print(np.max(narr))\n",
    "print(np.min(narr))\n",
    "print(np.median(narr))"
   ]
  },
  {
   "cell_type": "code",
   "execution_count": 16,
   "id": "2aafa002",
   "metadata": {},
   "outputs": [
    {
     "name": "stdout",
     "output_type": "stream",
     "text": [
      "[ 9.66109527  7.64307736  8.04605589  6.14135129  8.35619184 19.44699676\n",
      " 10.81704242  7.95041375  7.85558868  8.17688342  5.49122813  8.1860706\n",
      " 18.4951779   7.93101488  0.49103604  8.64880517  1.29607723  0.56998801\n",
      "  1.71902692  9.99182912]\n"
     ]
    }
   ],
   "source": [
    "for i in range(narr.size):\n",
    "    if(narr[i] < 5):\n",
    "        narr[i] = np.multiply(narr[i],narr[i])\n",
    "\n",
    "print(narr)"
   ]
  },
  {
   "cell_type": "code",
   "execution_count": 17,
   "id": "e81da20f",
   "metadata": {},
   "outputs": [
    {
     "name": "stdout",
     "output_type": "stream",
     "text": [
      "[19.44699676  0.49103604 18.4951779   0.56998801 10.81704242  1.29607723\n",
      "  9.99182912  1.71902692  9.66109527  5.49122813  8.64880517  6.14135129\n",
      "  8.35619184  7.64307736  8.1860706   7.85558868  8.17688342  7.93101488\n",
      "  8.04605589  7.95041375]\n"
     ]
    }
   ],
   "source": [
    "def numpy_alternate_sort(narr):\n",
    "    narr = narr.copy()\n",
    "    elem = []\n",
    "    while narr.size > 0:\n",
    "        max = np.max(narr)\n",
    "        elem.append(max)\n",
    "        narr = narr[narr != max]\n",
    "\n",
    "        if narr.size ==0:\n",
    "            break\n",
    "        min = np.min(narr)\n",
    "        elem.append(min)\n",
    "        narr = narr[narr != min]\n",
    "    \n",
    "    return elem\n",
    "\n",
    "\n",
    "print(np.array(numpy_alternate_sort(narr)))\n"
   ]
  },
  {
   "cell_type": "markdown",
   "id": "0e436117",
   "metadata": {},
   "source": [
    "Problem 3"
   ]
  },
  {
   "cell_type": "code",
   "execution_count": null,
   "id": "2315af1b",
   "metadata": {},
   "outputs": [],
   "source": [
    "import pandas as pd"
   ]
  },
  {
   "cell_type": "code",
   "execution_count": 34,
   "id": "aedfbc3b",
   "metadata": {},
   "outputs": [
    {
     "name": "stdout",
     "output_type": "stream",
     "text": [
      "       Name    Subject  Score  Grades\n",
      "0    Naveen       math     74     NaN\n",
      "1    chetan   physical     86     NaN\n",
      "2      SHAR  inorganic     96     NaN\n",
      "3    Uddesh  inorganic     55     NaN\n",
      "4    Kishan    organic     51     NaN\n",
      "5      SHAR   physical     68     NaN\n",
      "6     Anshu  inorganic     89     NaN\n",
      "7  Abhishek    organic     74     NaN\n",
      "8   Abhiraj         Cs     76     NaN\n",
      "9    Kishan       math     84     NaN\n"
     ]
    }
   ],
   "source": [
    "\n",
    "names = ['Uday', 'Uddesh' , 'Abhishek' ,'Abhiraj' , 'chetan' , 'Kishan' , 'KMR' , 'SHAR' , 'Naveen' , 'Anshu']\n",
    "subjects = ['physical', 'organic', 'inorganic', 'math', 'Cs']\n",
    "\n",
    "df = pd.DataFrame({\n",
    "    'Name' : np.random.choice(names, 10),\n",
    "    'Subject' : np.random.choice(subjects , 10),\n",
    "    'Score' : np.random.randint(50,101,size=10),\n",
    "    'Grades' : np.nan,\n",
    "})\n",
    "\n",
    "print(df)"
   ]
  },
  {
   "cell_type": "code",
   "execution_count": 38,
   "id": "be43374f",
   "metadata": {},
   "outputs": [
    {
     "name": "stdout",
     "output_type": "stream",
     "text": [
      "       Name    Subject  Score Grades\n",
      "0    Naveen       math     74      C\n",
      "1    chetan   physical     86      B\n",
      "2      SHAR  inorganic     96      A\n",
      "3    Uddesh  inorganic     55      F\n",
      "4    Kishan    organic     51      F\n",
      "5      SHAR   physical     68      D\n",
      "6     Anshu  inorganic     89      B\n",
      "7  Abhishek    organic     74      C\n",
      "8   Abhiraj         Cs     76      C\n",
      "9    Kishan       math     84      B\n"
     ]
    }
   ],
   "source": [
    "\n",
    "df.loc[df['Score'] >= 90, 'Grades'] = 'A'\n",
    "df.loc[(df['Score'] >= 80) & (df['Score'] < 90), 'Grades'] = 'B'\n",
    "df.loc[(df['Score'] >= 70) & (df['Score'] < 80), 'Grades'] = 'C'\n",
    "df.loc[(df['Score'] >= 60) & (df['Score'] < 70), 'Grades'] = 'D'\n",
    "df.loc[df['Score'] < 60, 'Grades'] = 'F'\n",
    "\n",
    "print(df)\n"
   ]
  },
  {
   "cell_type": "code",
   "execution_count": 49,
   "id": "3f4aa987",
   "metadata": {},
   "outputs": [
    {
     "data": {
      "text/html": [
       "<div>\n",
       "<style scoped>\n",
       "    .dataframe tbody tr th:only-of-type {\n",
       "        vertical-align: middle;\n",
       "    }\n",
       "\n",
       "    .dataframe tbody tr th {\n",
       "        vertical-align: top;\n",
       "    }\n",
       "\n",
       "    .dataframe thead th {\n",
       "        text-align: right;\n",
       "    }\n",
       "</style>\n",
       "<table border=\"1\" class=\"dataframe\">\n",
       "  <thead>\n",
       "    <tr style=\"text-align: right;\">\n",
       "      <th></th>\n",
       "      <th>Name</th>\n",
       "      <th>Subject</th>\n",
       "      <th>Score</th>\n",
       "      <th>Grades</th>\n",
       "    </tr>\n",
       "  </thead>\n",
       "  <tbody>\n",
       "    <tr>\n",
       "      <th>4</th>\n",
       "      <td>Kishan</td>\n",
       "      <td>organic</td>\n",
       "      <td>51</td>\n",
       "      <td>F</td>\n",
       "    </tr>\n",
       "    <tr>\n",
       "      <th>3</th>\n",
       "      <td>Uddesh</td>\n",
       "      <td>inorganic</td>\n",
       "      <td>55</td>\n",
       "      <td>F</td>\n",
       "    </tr>\n",
       "    <tr>\n",
       "      <th>5</th>\n",
       "      <td>SHAR</td>\n",
       "      <td>physical</td>\n",
       "      <td>68</td>\n",
       "      <td>D</td>\n",
       "    </tr>\n",
       "    <tr>\n",
       "      <th>0</th>\n",
       "      <td>Naveen</td>\n",
       "      <td>math</td>\n",
       "      <td>74</td>\n",
       "      <td>C</td>\n",
       "    </tr>\n",
       "    <tr>\n",
       "      <th>7</th>\n",
       "      <td>Abhishek</td>\n",
       "      <td>organic</td>\n",
       "      <td>74</td>\n",
       "      <td>C</td>\n",
       "    </tr>\n",
       "    <tr>\n",
       "      <th>8</th>\n",
       "      <td>Abhiraj</td>\n",
       "      <td>Cs</td>\n",
       "      <td>76</td>\n",
       "      <td>C</td>\n",
       "    </tr>\n",
       "    <tr>\n",
       "      <th>9</th>\n",
       "      <td>Kishan</td>\n",
       "      <td>math</td>\n",
       "      <td>84</td>\n",
       "      <td>B</td>\n",
       "    </tr>\n",
       "    <tr>\n",
       "      <th>1</th>\n",
       "      <td>chetan</td>\n",
       "      <td>physical</td>\n",
       "      <td>86</td>\n",
       "      <td>B</td>\n",
       "    </tr>\n",
       "    <tr>\n",
       "      <th>6</th>\n",
       "      <td>Anshu</td>\n",
       "      <td>inorganic</td>\n",
       "      <td>89</td>\n",
       "      <td>B</td>\n",
       "    </tr>\n",
       "    <tr>\n",
       "      <th>2</th>\n",
       "      <td>SHAR</td>\n",
       "      <td>inorganic</td>\n",
       "      <td>96</td>\n",
       "      <td>A</td>\n",
       "    </tr>\n",
       "  </tbody>\n",
       "</table>\n",
       "</div>"
      ],
      "text/plain": [
       "       Name    Subject  Score Grades\n",
       "4    Kishan    organic     51      F\n",
       "3    Uddesh  inorganic     55      F\n",
       "5      SHAR   physical     68      D\n",
       "0    Naveen       math     74      C\n",
       "7  Abhishek    organic     74      C\n",
       "8   Abhiraj         Cs     76      C\n",
       "9    Kishan       math     84      B\n",
       "1    chetan   physical     86      B\n",
       "6     Anshu  inorganic     89      B\n",
       "2      SHAR  inorganic     96      A"
      ]
     },
     "execution_count": 49,
     "metadata": {},
     "output_type": "execute_result"
    }
   ],
   "source": [
    "df = df.sort_values(by='Score',ascending=True)\n",
    "df"
   ]
  },
  {
   "cell_type": "code",
   "execution_count": 60,
   "id": "1756b43f",
   "metadata": {},
   "outputs": [
    {
     "name": "stdout",
     "output_type": "stream",
     "text": [
      "Subject\n",
      "Cs           76.0\n",
      "inorganic    80.0\n",
      "math         79.0\n",
      "organic      62.5\n",
      "physical     77.0\n",
      "Name: Score, dtype: float64\n"
     ]
    }
   ],
   "source": [
    "val = df.groupby('Subject')['Score'].mean()\n",
    "print(val)"
   ]
  },
  {
   "cell_type": "code",
   "execution_count": 66,
   "id": "03e73f76",
   "metadata": {},
   "outputs": [],
   "source": [
    "def pandas_filter_pass(dataframe):\n",
    "    dataframe = dataframe[(dataframe['Grades'] == 'A') | (dataframe['Grades'] == 'B')]\n",
    "    return dataframe"
   ]
  },
  {
   "cell_type": "code",
   "execution_count": 68,
   "id": "01d662a0",
   "metadata": {},
   "outputs": [
    {
     "name": "stdout",
     "output_type": "stream",
     "text": [
      "     Name    Subject  Score Grades\n",
      "9  Kishan       math     84      B\n",
      "1  chetan   physical     86      B\n",
      "6   Anshu  inorganic     89      B\n",
      "2    SHAR  inorganic     96      A\n"
     ]
    }
   ],
   "source": [
    "new_df = pandas_filter_pass(df)\n",
    "print(new_df)"
   ]
  },
  {
   "cell_type": "markdown",
   "id": "511dad1b",
   "metadata": {},
   "source": [
    "// Problem 4"
   ]
  },
  {
   "cell_type": "code",
   "execution_count": null,
   "id": "7785af2e",
   "metadata": {},
   "outputs": [],
   "source": [
    "import pandas as pd\n",
    "from sklearn.feature_extraction.text import CountVectorizer\n",
    "from sklearn.model_selection import train_test_split\n",
    "from sklearn.naive_bayes import MultinomialNB\n",
    "from sklearn.metrics import accuracy_score\n",
    "\n",
    "# --- Step 1: Create a synthetic dataset ---\n",
    "# We'll create 50 positive and 50 negative reviews.\n",
    "# For simplicity, we'll use a few template phrases and repeat them.\n",
    "\n",
    "positive_phrases = [\n",
    "    \"This was a fantastic movie, I loved it.\",\n",
    "    \"The acting was superb and the plot was engaging.\",\n",
    "    \"A true masterpiece of cinema, absolutely brilliant.\",\n",
    "    \"I would highly recommend this film to everyone.\",\n",
    "    \"An amazing and unforgettable experience.\"\n",
    "]\n",
    "\n",
    "negative_phrases = [\n",
    "    \"A terrible film, I hated every minute of it.\",\n",
    "    \"The plot was boring and the acting was awful.\",\n",
    "    \"A complete waste of time and money.\",\n",
    "    \"I would not recommend this movie to anyone.\",\n",
    "    \"A disappointing and predictable story.\"\n",
    "]\n",
    "\n",
    "# Create 50 positive and 50 negative reviews\n",
    "reviews = [positive_phrases[i % 5] for i in range(50)] + \\\n",
    "          [negative_phrases[i % 5] for i in range(50)]\n",
    "sentiments = ['positive'] * 50 + ['negative'] * 50\n",
    "\n",
    "# Create a Pandas DataFrame\n",
    "df = pd.DataFrame({\n",
    "    'Review': reviews,\n",
    "    'Sentiment': sentiments\n",
    "})\n",
    "\n",
    "\n",
    "print(df)\n",
    "\n",
    "# appears in both so does not make sense as it will not distinguish them \n",
    "nonsence_words = ['the', 'is', 'and', 'movie', 'film','i','a','this','plot']\n",
    "vectorizer = CountVectorizer(max_features=500, stop_words=nonsence_words)\n",
    "# countvectorizer converts all words to lowercase before processing so stop_words\n",
    "# should be lower case letters\n",
    "\n",
    "X = df['Review']\n",
    "y = df['Sentiment']\n",
    "\n",
    "X_train, X_test, y_train, y_test = train_test_split(\n",
    "    X, y, test_size=0.2, random_state=2, stratify=y\n",
    ")\n",
    "# stratify ensures that the split will keep the same proportion of \n",
    "# class in both the tarining and test sets as original data.\n",
    "\n",
    "X_train_vec = vectorizer.fit_transform(X_train)\n",
    "X_test_vec =  vectorizer.transform(X_test)\n",
    "\n",
    "\n",
    "model = MultinomialNB()\n",
    "\n",
    "model.fit(X_train_vec ,y_train)\n",
    "\n",
    "y_pred = model.predict(X_test_vec)\n",
    "\n",
    "accuracy = accuracy_score(y_test, y_pred)\n",
    "\n",
    "print(f\"Accuarcy : {accuracy:.2f}\")\n",
    "\n",
    "\n",
    "\n"
   ]
  },
  {
   "cell_type": "code",
   "execution_count": null,
   "id": "762ca38e",
   "metadata": {},
   "outputs": [],
   "source": [
    "def predict_review_sentiment(model, vectorizer, review: str):\n",
    "    review_vec = vectorizer.transform([review])\n",
    "    # transform exepects a iterable so we make it a list \n",
    "    predict = model.predict(review_vec)\n",
    "    return predict \n",
    "\n",
    "ll = predict_review_sentiment(model,vectorizer,\"A disappointing and predictable story.\")\n",
    "print(ll)\n",
    "print(ll[0])"
   ]
  },
  {
   "cell_type": "markdown",
   "id": "5bbf8e9e",
   "metadata": {},
   "source": [
    "// Problem 5"
   ]
  },
  {
   "cell_type": "code",
   "execution_count": 1,
   "id": "407014c0",
   "metadata": {},
   "outputs": [
    {
     "name": "stdout",
     "output_type": "stream",
     "text": [
      "              precision    recall  f1-score   support\n",
      "\n",
      "         bad       1.00      1.00      1.00        13\n",
      "        good       1.00      1.00      1.00        12\n",
      "\n",
      "    accuracy                           1.00        25\n",
      "   macro avg       1.00      1.00      1.00        25\n",
      "weighted avg       1.00      1.00      1.00        25\n",
      "\n",
      "<Compressed Sparse Row sparse matrix of dtype 'float64'\n",
      "\twith 0 stored elements and shape (55, 43)>\n"
     ]
    }
   ],
   "source": [
    "import pandas as pd\n",
    "from sklearn.feature_extraction.text import TfidfVectorizer\n",
    "from sklearn.model_selection import train_test_split\n",
    "from sklearn.linear_model import LogisticRegression\n",
    "from sklearn.metrics import classification_report\n",
    "\n",
    "good_feedback = [\n",
    "    \"Excellent quality and fast shipping, I love this product.\",\n",
    "    \"The item works perfectly and exceeded my expectations.\",\n",
    "    \"Great value for the price, very satisfied with my purchase.\",\n",
    "    \"Customer service was fantastic and the product is top-notch.\",\n",
    "    \"I would highly recommend this to anyone looking for a reliable item.\"\n",
    "]\n",
    "\n",
    "bad_feedback = [\n",
    "    \"The product arrived broken and the quality is terrible.\",\n",
    "    \"Very slow delivery and the item does not work as advertised.\",\n",
    "    \"A complete waste of money, I am very disappointed.\",\n",
    "    \"Poor customer support and the product feels cheap.\",\n",
    "    \"I would not buy this again, a very negative experience.\"\n",
    "]\n",
    "\n",
    "# Create 100 text samples (50 good, 50 bad)\n",
    "texts = [good_feedback[i % 5] for i in range(50)] + \\\n",
    "        [bad_feedback[i % 5] for i in range(50)]\n",
    "labels = ['good'] * 50 + ['bad'] * 50\n",
    "\n",
    "# Create a DataFrame\n",
    "df = pd.DataFrame({\n",
    "    'Feedback': texts,\n",
    "    'Label': labels\n",
    "})\n",
    "\n",
    "vectorizer = TfidfVectorizer(max_features=300, stop_words='english')\n",
    "# stop words  english will by default choose the words which usually do not help in distinguish\n",
    "\n",
    "X = df['Feedback']\n",
    "y = df['Label']\n",
    "\n",
    "X_train, X_test, y_train, y_test = train_test_split(\n",
    "    X, y, test_size=0.25, random_state=2, stratify=y\n",
    ")\n",
    "# stratify ensures that the split will keep the same proportion of \n",
    "# class in both the tarining and test sets as original data.\n",
    "\n",
    "X_train_vec = vectorizer.fit_transform(X_train)\n",
    "X_test_vec =  vectorizer.transform(X_test)\n",
    "\n",
    "model = LogisticRegression()\n",
    "\n",
    "model.fit(X_train_vec ,y_train)\n",
    "\n",
    "y_pred = model.predict(X_test_vec)\n",
    "\n",
    "report = classification_report(y_test, y_pred, target_names=['bad', 'good'])\n",
    "\n",
    "print(report)\n",
    "\n",
    "def text_preprocess_vectorize(texts: list, vectorizer):\n",
    "    vectorized_matrix = vectorizer.transform(texts)\n",
    "    return vectorized_matrix\n",
    "\n",
    "ll = text_preprocess_vectorize(list(\"The product arrived broken and the quality is terrible.\") , vectorizer)\n",
    "print(ll)\n"
   ]
  }
 ],
 "metadata": {
  "kernelspec": {
   "display_name": "Python 3",
   "language": "python",
   "name": "python3"
  },
  "language_info": {
   "codemirror_mode": {
    "name": "ipython",
    "version": 3
   },
   "file_extension": ".py",
   "mimetype": "text/x-python",
   "name": "python",
   "nbconvert_exporter": "python",
   "pygments_lexer": "ipython3",
   "version": "3.13.3"
  }
 },
 "nbformat": 4,
 "nbformat_minor": 5
}
